{
 "cells": [
  {
   "cell_type": "code",
   "execution_count": 2,
   "metadata": {
    "collapsed": true
   },
   "outputs": [],
   "source": [
    "# -*- coding: utf-8 -*-\n",
    "%matplotlib inline\n",
    "\n",
    "# import\n",
    "import pandas as pd\n",
    "import numpy as np\n",
    "from scipy.optimize import curve_fit\n",
    "from scipy.optimize import leastsq \n",
    "import matplotlib.pyplot as plt"
   ]
  },
  {
   "cell_type": "code",
   "execution_count": 3,
   "metadata": {},
   "outputs": [
    {
     "data": {
      "text/html": [
       "<div>\n",
       "<style scoped>\n",
       "    .dataframe tbody tr th:only-of-type {\n",
       "        vertical-align: middle;\n",
       "    }\n",
       "\n",
       "    .dataframe tbody tr th {\n",
       "        vertical-align: top;\n",
       "    }\n",
       "\n",
       "    .dataframe thead th {\n",
       "        text-align: right;\n",
       "    }\n",
       "</style>\n",
       "<table border=\"1\" class=\"dataframe\">\n",
       "  <thead>\n",
       "    <tr style=\"text-align: right;\">\n",
       "      <th></th>\n",
       "      <th>cond</th>\n",
       "      <th>count</th>\n",
       "      <th>time</th>\n",
       "      <th>count_err</th>\n",
       "      <th>run</th>\n",
       "    </tr>\n",
       "  </thead>\n",
       "  <tbody>\n",
       "    <tr>\n",
       "      <th>0</th>\n",
       "      <td>Au</td>\n",
       "      <td>1750.8310</td>\n",
       "      <td>0.041667</td>\n",
       "      <td>33.840132</td>\n",
       "      <td>42</td>\n",
       "    </tr>\n",
       "    <tr>\n",
       "      <th>1</th>\n",
       "      <td>Au</td>\n",
       "      <td>1431.6100</td>\n",
       "      <td>0.916667</td>\n",
       "      <td>27.924817</td>\n",
       "      <td>43</td>\n",
       "    </tr>\n",
       "    <tr>\n",
       "      <th>2</th>\n",
       "      <td>Au</td>\n",
       "      <td>310.8236</td>\n",
       "      <td>6.916667</td>\n",
       "      <td>9.778796</td>\n",
       "      <td>44</td>\n",
       "    </tr>\n",
       "    <tr>\n",
       "      <th>3</th>\n",
       "      <td>Au</td>\n",
       "      <td>248.2771</td>\n",
       "      <td>7.916667</td>\n",
       "      <td>7.888158</td>\n",
       "      <td>45</td>\n",
       "    </tr>\n",
       "  </tbody>\n",
       "</table>\n",
       "</div>"
      ],
      "text/plain": [
       "  cond      count      time  count_err  run\n",
       "0   Au  1750.8310  0.041667  33.840132   42\n",
       "1   Au  1431.6100  0.916667  27.924817   43\n",
       "2   Au   310.8236  6.916667   9.778796   44\n",
       "3   Au   248.2771  7.916667   7.888158   45"
      ]
     },
     "execution_count": 3,
     "metadata": {},
     "output_type": "execute_result"
    }
   ],
   "source": [
    "Cs137 = pd.read_csv(\"Au198.csv\")\n",
    "Cs137"
   ]
  },
  {
   "cell_type": "code",
   "execution_count": 4,
   "metadata": {
    "collapsed": true
   },
   "outputs": [],
   "source": [
    "time = np.array(Cs137[\"time\"])\n",
    "count = np.array(Cs137[\"count\"]) \n",
    "err = np.array(Cs137[\"count_err\"])"
   ]
  },
  {
   "cell_type": "markdown",
   "metadata": {},
   "source": [
    "## Au\n"
   ]
  },
  {
   "cell_type": "code",
   "execution_count": 5,
   "metadata": {},
   "outputs": [
    {
     "data": {
      "text/plain": [
       "<matplotlib.collections.PathCollection at 0x112568c88>"
      ]
     },
     "execution_count": 5,
     "metadata": {},
     "output_type": "execute_result"
    },
    {
     "data": {
      "image/png": "[encoded data removed]",
      "text/plain": [
       "<Figure size 432x288 with 1 Axes>"
      ]
     },
     "metadata": {},
     "output_type": "display_data"
    }
   ],
   "source": [
    "plt.scatter(time,np.log(count))"
   ]
  },
  {
   "cell_type": "code",
   "execution_count": 6,
   "metadata": {
    "collapsed": true
   },
   "outputs": [],
   "source": [
    "def func(x, a1, a2):\n",
    "    return a1 +a2*x\n",
    "\n",
    "def fit_func(param, x, y, err):\n",
    "    a1, a2 = param\n",
    "    residual = (y - func(x, a1, a2))/err\n",
    "    return residual\n"
   ]
  },
  {
   "cell_type": "code",
   "execution_count": 7,
   "metadata": {},
   "outputs": [
    {
     "name": "stdout",
     "output_type": "stream",
     "text": [
      "b1     : 7.486183813047374\n",
      "b1_err : 0.014691469203647093\n",
      "b2     : -0.25038345571171783\n",
      "b2_err : 0.003741720283819542\n",
      "reduced_chi_square : 0.2554831519484538\n"
     ]
    },
    {
     "data": {
      "image/png": "[encoded data removed]",
      "text/plain": [
       "<Figure size 432x288 with 1 Axes>"
      ]
     },
     "metadata": {},
     "output_type": "display_data"
    }
   ],
   "source": [
    "param = [0, 0]\n",
    "result = leastsq(fit_func, param, args=(time, np.log(count),err/count), full_output=True)\n",
    "\n",
    "b1, b2 = result[0]\n",
    "b1_err = np.sqrt(result[1][0, 0])\n",
    "b2_err = np.sqrt(result[1][1, 1])\n",
    "\n",
    "print(\"b1     : \"+ str(b1))\n",
    "print(\"b1_err : \" + str(b1_err))\n",
    "print(\"b2     : \"+ str(b2))\n",
    "print(\"b2_err : \"+ str(b2_err))\n",
    "\n",
    "chi = fit_func((b1, b2), time, np.log(count), err/count)\n",
    "plt.scatter(time, chi*chi)\n",
    "\n",
    "chi_square = sum(chi*chi)\n",
    "print(\"reduced_chi_square : \" + str(chi_square /3) )"
   ]
  },
  {
   "cell_type": "code",
   "execution_count": 8,
   "metadata": {},
   "outputs": [
    {
     "data": {
      "image/png": "[encoded data removed]",
      "text/plain": [
       "<Figure size 720x648 with 1 Axes>"
      ]
     },
     "metadata": {},
     "output_type": "display_data"
    }
   ],
   "source": [
    "fig = plt.figure(figsize=(10, 9))\n",
    "\n",
    "ax1 =fig.add_subplot(2,1,1)\n",
    "\n",
    "#plot_Pb\n",
    "ax1.set_title(\"Au\")\n",
    "ax1.set_xlabel(\"Time[day]\")\n",
    "ax1.set_ylabel(\"Count\")\n",
    "ax1.set_yscale(\"log\")\n",
    "\n",
    "ax1.scatter(time, count,c=\"pink\", alpha=0.5, linewidths=\"2\",edgecolors=\"red\",label=\"data\")\n",
    "#ax1.set_xlim(-10,20)\n",
    "#ax1.set_ylim(4000,20000)\n",
    "x_1 = np.linspace(0,10)\n",
    "ax1.plot(x_1, np.exp(func(x_1, b1, b2)),label=\"f(x)\")\n",
    "ax1.errorbar(time, count, yerr=err,fmt=\"none\", ecolor=\"g\")\n",
    "ax1.legend()\n",
    "\n",
    "fig.tight_layout()\n",
    "plt.savefig(\"Au.png\")\n",
    "#plt.show()"
   ]
  },
  {
   "cell_type": "code",
   "execution_count": 9,
   "metadata": {},
   "outputs": [
    {
     "data": {
      "text/plain": [
       "2.7683425751500494"
      ]
     },
     "execution_count": 9,
     "metadata": {},
     "output_type": "execute_result"
    }
   ],
   "source": [
    "T_0 = np.log(2)/-b2\n",
    "T_0"
   ]
  },
  {
   "cell_type": "code",
   "execution_count": 10,
   "metadata": {},
   "outputs": [
    {
     "data": {
      "text/plain": [
       "0.04137000001280595"
      ]
     },
     "execution_count": 10,
     "metadata": {},
     "output_type": "execute_result"
    }
   ],
   "source": [
    "T_err = np.log(2)/((-b2)*(-b2))*b2_err\n",
    "T_err"
   ]
  },
  {
   "cell_type": "code",
   "execution_count": null,
   "metadata": {
    "collapsed": true
   },
   "outputs": [],
   "source": []
  },
  {
   "cell_type": "code",
   "execution_count": null,
   "metadata": {
    "collapsed": true
   },
   "outputs": [],
   "source": []
  }
 ],
 "metadata": {
  "kernelspec": {
   "display_name": "Python 3",
   "language": "python",
   "name": "python3"
  },
  "language_info": {
   "codemirror_mode": {
    "name": "ipython",
    "version": 3
   },
   "file_extension": ".py",
   "mimetype": "text/x-python",
   "name": "python",
   "nbconvert_exporter": "python",
   "pygments_lexer": "ipython3",
   "version": "3.6.1"
  }
 },
 "nbformat": 4,
 "nbformat_minor": 2
}
