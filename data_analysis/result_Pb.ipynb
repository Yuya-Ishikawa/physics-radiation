{
 "cells": [
  {
   "cell_type": "code",
   "execution_count": 2,
   "metadata": {
    "collapsed": true
   },
   "outputs": [],
   "source": [
    "import numpy as np\n",
    "from pandas import Series, DataFrame\n",
    "import pandas as pd\n",
    "import matplotlib.pyplot as plt"
   ]
  },
  {
   "cell_type": "markdown",
   "metadata": {},
   "source": [
    "dframe = pd.read_clipboard()\n",
    "dframe"
   ]
  },
  {
   "cell_type": "code",
   "execution_count": 5,
   "metadata": {
    "collapsed": true
   },
   "outputs": [],
   "source": [
    "new_columns = {\"1.00000E-01\":\"Energy\",\"5.549E+00\":\"mu\",\"1.976E+00\":\"mu_en\"}\n",
    "df0 = dframe.rename(columns=new_columns)"
   ]
  },
  {
   "cell_type": "code",
   "execution_count": 6,
   "metadata": {
    "collapsed": true
   },
   "outputs": [],
   "source": [
    "df0.to_csv('sample.csv')"
   ]
  },
  {
   "cell_type": "code",
   "execution_count": 7,
   "metadata": {},
   "outputs": [
    {
     "data": {
      "text/html": [
       "<div>\n",
       "<style scoped>\n",
       "    .dataframe tbody tr th:only-of-type {\n",
       "        vertical-align: middle;\n",
       "    }\n",
       "\n",
       "    .dataframe tbody tr th {\n",
       "        vertical-align: top;\n",
       "    }\n",
       "\n",
       "    .dataframe thead th {\n",
       "        text-align: right;\n",
       "    }\n",
       "</style>\n",
       "<table border=\"1\" class=\"dataframe\">\n",
       "  <thead>\n",
       "    <tr style=\"text-align: right;\">\n",
       "      <th></th>\n",
       "      <th>Unnamed: 0</th>\n",
       "      <th>Energy</th>\n",
       "      <th>mu</th>\n",
       "      <th>mu_en</th>\n",
       "    </tr>\n",
       "  </thead>\n",
       "  <tbody>\n",
       "    <tr>\n",
       "      <th>0</th>\n",
       "      <td>0</td>\n",
       "      <td>0.15</td>\n",
       "      <td>2.01400</td>\n",
       "      <td>1.05600</td>\n",
       "    </tr>\n",
       "    <tr>\n",
       "      <th>1</th>\n",
       "      <td>1</td>\n",
       "      <td>0.20</td>\n",
       "      <td>0.99850</td>\n",
       "      <td>0.58700</td>\n",
       "    </tr>\n",
       "    <tr>\n",
       "      <th>2</th>\n",
       "      <td>2</td>\n",
       "      <td>0.30</td>\n",
       "      <td>0.40310</td>\n",
       "      <td>0.24550</td>\n",
       "    </tr>\n",
       "    <tr>\n",
       "      <th>3</th>\n",
       "      <td>3</td>\n",
       "      <td>0.40</td>\n",
       "      <td>0.23230</td>\n",
       "      <td>0.13700</td>\n",
       "    </tr>\n",
       "    <tr>\n",
       "      <th>4</th>\n",
       "      <td>4</td>\n",
       "      <td>0.50</td>\n",
       "      <td>0.16140</td>\n",
       "      <td>0.09128</td>\n",
       "    </tr>\n",
       "    <tr>\n",
       "      <th>5</th>\n",
       "      <td>5</td>\n",
       "      <td>0.60</td>\n",
       "      <td>0.12480</td>\n",
       "      <td>0.06819</td>\n",
       "    </tr>\n",
       "    <tr>\n",
       "      <th>6</th>\n",
       "      <td>6</td>\n",
       "      <td>0.80</td>\n",
       "      <td>0.08870</td>\n",
       "      <td>0.04644</td>\n",
       "    </tr>\n",
       "    <tr>\n",
       "      <th>7</th>\n",
       "      <td>7</td>\n",
       "      <td>1.00</td>\n",
       "      <td>0.07102</td>\n",
       "      <td>0.03654</td>\n",
       "    </tr>\n",
       "    <tr>\n",
       "      <th>8</th>\n",
       "      <td>8</td>\n",
       "      <td>1.25</td>\n",
       "      <td>0.05876</td>\n",
       "      <td>0.02988</td>\n",
       "    </tr>\n",
       "    <tr>\n",
       "      <th>9</th>\n",
       "      <td>9</td>\n",
       "      <td>1.50</td>\n",
       "      <td>0.05222</td>\n",
       "      <td>0.02640</td>\n",
       "    </tr>\n",
       "    <tr>\n",
       "      <th>10</th>\n",
       "      <td>10</td>\n",
       "      <td>2.00</td>\n",
       "      <td>0.04606</td>\n",
       "      <td>0.02360</td>\n",
       "    </tr>\n",
       "    <tr>\n",
       "      <th>11</th>\n",
       "      <td>11</td>\n",
       "      <td>3.00</td>\n",
       "      <td>0.04234</td>\n",
       "      <td>0.02322</td>\n",
       "    </tr>\n",
       "    <tr>\n",
       "      <th>12</th>\n",
       "      <td>12</td>\n",
       "      <td>4.00</td>\n",
       "      <td>0.04197</td>\n",
       "      <td>0.02449</td>\n",
       "    </tr>\n",
       "    <tr>\n",
       "      <th>13</th>\n",
       "      <td>13</td>\n",
       "      <td>5.00</td>\n",
       "      <td>0.04272</td>\n",
       "      <td>0.02600</td>\n",
       "    </tr>\n",
       "    <tr>\n",
       "      <th>14</th>\n",
       "      <td>14</td>\n",
       "      <td>6.00</td>\n",
       "      <td>0.04391</td>\n",
       "      <td>0.02744</td>\n",
       "    </tr>\n",
       "    <tr>\n",
       "      <th>15</th>\n",
       "      <td>15</td>\n",
       "      <td>8.00</td>\n",
       "      <td>0.04675</td>\n",
       "      <td>0.02989</td>\n",
       "    </tr>\n",
       "    <tr>\n",
       "      <th>16</th>\n",
       "      <td>16</td>\n",
       "      <td>10.00</td>\n",
       "      <td>0.04972</td>\n",
       "      <td>0.03181</td>\n",
       "    </tr>\n",
       "    <tr>\n",
       "      <th>17</th>\n",
       "      <td>17</td>\n",
       "      <td>15.00</td>\n",
       "      <td>0.05658</td>\n",
       "      <td>0.03478</td>\n",
       "    </tr>\n",
       "    <tr>\n",
       "      <th>18</th>\n",
       "      <td>18</td>\n",
       "      <td>20.00</td>\n",
       "      <td>0.06206</td>\n",
       "      <td>0.03595</td>\n",
       "    </tr>\n",
       "  </tbody>\n",
       "</table>\n",
       "</div>"
      ],
      "text/plain": [
       "    Unnamed: 0  Energy       mu    mu_en\n",
       "0            0    0.15  2.01400  1.05600\n",
       "1            1    0.20  0.99850  0.58700\n",
       "2            2    0.30  0.40310  0.24550\n",
       "3            3    0.40  0.23230  0.13700\n",
       "4            4    0.50  0.16140  0.09128\n",
       "5            5    0.60  0.12480  0.06819\n",
       "6            6    0.80  0.08870  0.04644\n",
       "7            7    1.00  0.07102  0.03654\n",
       "8            8    1.25  0.05876  0.02988\n",
       "9            9    1.50  0.05222  0.02640\n",
       "10          10    2.00  0.04606  0.02360\n",
       "11          11    3.00  0.04234  0.02322\n",
       "12          12    4.00  0.04197  0.02449\n",
       "13          13    5.00  0.04272  0.02600\n",
       "14          14    6.00  0.04391  0.02744\n",
       "15          15    8.00  0.04675  0.02989\n",
       "16          16   10.00  0.04972  0.03181\n",
       "17          17   15.00  0.05658  0.03478\n",
       "18          18   20.00  0.06206  0.03595"
      ]
     },
     "execution_count": 7,
     "metadata": {},
     "output_type": "execute_result"
    }
   ],
   "source": [
    "pd.read_csv('sample.csv')"
   ]
  },
  {
   "cell_type": "code",
   "execution_count": 8,
   "metadata": {
    "collapsed": true
   },
   "outputs": [],
   "source": [
    "data_energy = [0.662,1.173,1.332]\n",
    "data_mu = [0.0955,0.064,0.0558]\n",
    "data_err = [0.003,0.005,0.006]"
   ]
  },
  {
   "cell_type": "code",
   "execution_count": 12,
   "metadata": {},
   "outputs": [
    {
     "data": {
      "image/png": "[encoded data removed]",
      "text/plain": [
       "<Figure size 720x648 with 1 Axes>"
      ]
     },
     "metadata": {},
     "output_type": "display_data"
    }
   ],
   "source": [
    "fig = plt.figure(figsize=(10, 9))\n",
    "\n",
    "ax1 =fig.add_subplot(2,1,1)\n",
    "\n",
    "#plot_Pb\n",
    "ax1.set_title(\"Pb\")\n",
    "ax1.set_xlabel(\"Energy[MeV]\")\n",
    "ax1.set_ylabel(\"mu[g/cm^2]\")\n",
    "ax1.set_xscale(\"log\")\n",
    "ax1.set_yscale(\"log\")\n",
    "\n",
    "ax1.plot(df0[\"Energy\"],df0[\"mu\"])\n",
    "ax1.set_xlim(0.1,10)\n",
    "ax1.set_ylim(0.01,1)\n",
    "#x_1 = np.linspace(0,10)\n",
    "#ax1.plot(x_1, np.exp(func(x_1, b1, b2)))\n",
    "ax1.errorbar(data_energy, data_mu, yerr=data_err,fmt=\"ro\", ecolor=\"g\")\n",
    "\n",
    "fig.tight_layout()\n",
    "plt.savefig(\"result_Pb.png\")\n",
    "plt.show()"
   ]
  },
  {
   "cell_type": "code",
   "execution_count": null,
   "metadata": {
    "collapsed": true
   },
   "outputs": [],
   "source": []
  }
 ],
 "metadata": {
  "kernelspec": {
   "display_name": "Python 3",
   "language": "python",
   "name": "python3"
  },
  "language_info": {
   "codemirror_mode": {
    "name": "ipython",
    "version": 3
   },
   "file_extension": ".py",
   "mimetype": "text/x-python",
   "name": "python",
   "nbconvert_exporter": "python",
   "pygments_lexer": "ipython3",
   "version": "3.6.1"
  }
 },
 "nbformat": 4,
 "nbformat_minor": 2
}
