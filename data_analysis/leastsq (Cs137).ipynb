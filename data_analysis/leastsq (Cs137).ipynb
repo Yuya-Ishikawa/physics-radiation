{
 "cells": [
  {
   "cell_type": "code",
   "execution_count": 1,
   "metadata": {
    "collapsed": true
   },
   "outputs": [],
   "source": [
    "# -*- coding: utf-8 -*-\n",
    "%matplotlib inline\n",
    "\n",
    "# import\n",
    "import pandas as pd\n",
    "import numpy as np\n",
    "from scipy.optimize import curve_fit\n",
    "from scipy.optimize import leastsq \n",
    "import matplotlib.pyplot as plt"
   ]
  },
  {
   "cell_type": "code",
   "execution_count": 2,
   "metadata": {},
   "outputs": [
    {
     "data": {
      "text/html": [
       "<div>\n",
       "<style scoped>\n",
       "    .dataframe tbody tr th:only-of-type {\n",
       "        vertical-align: middle;\n",
       "    }\n",
       "\n",
       "    .dataframe tbody tr th {\n",
       "        vertical-align: top;\n",
       "    }\n",
       "\n",
       "    .dataframe thead th {\n",
       "        text-align: right;\n",
       "    }\n",
       "</style>\n",
       "<table border=\"1\" class=\"dataframe\">\n",
       "  <thead>\n",
       "    <tr style=\"text-align: right;\">\n",
       "      <th></th>\n",
       "      <th>cond</th>\n",
       "      <th>run</th>\n",
       "      <th>count</th>\n",
       "      <th>thickness</th>\n",
       "      <th>count_err</th>\n",
       "    </tr>\n",
       "  </thead>\n",
       "  <tbody>\n",
       "    <tr>\n",
       "      <th>0</th>\n",
       "      <td>Pb*4</td>\n",
       "      <td>16</td>\n",
       "      <td>6118.24462</td>\n",
       "      <td>9.136750</td>\n",
       "      <td>160.934371</td>\n",
       "    </tr>\n",
       "    <tr>\n",
       "      <th>1</th>\n",
       "      <td>Pb*3</td>\n",
       "      <td>17</td>\n",
       "      <td>7745.17644</td>\n",
       "      <td>6.753250</td>\n",
       "      <td>171.897586</td>\n",
       "    </tr>\n",
       "    <tr>\n",
       "      <th>2</th>\n",
       "      <td>Pb*2</td>\n",
       "      <td>18</td>\n",
       "      <td>9424.52730</td>\n",
       "      <td>4.483250</td>\n",
       "      <td>191.905881</td>\n",
       "    </tr>\n",
       "    <tr>\n",
       "      <th>3</th>\n",
       "      <td>Pb*1</td>\n",
       "      <td>19</td>\n",
       "      <td>11878.97940</td>\n",
       "      <td>2.298375</td>\n",
       "      <td>242.986790</td>\n",
       "    </tr>\n",
       "    <tr>\n",
       "      <th>4</th>\n",
       "      <td>Pb*0</td>\n",
       "      <td>20</td>\n",
       "      <td>14629.68550</td>\n",
       "      <td>0.000000</td>\n",
       "      <td>286.682725</td>\n",
       "    </tr>\n",
       "    <tr>\n",
       "      <th>5</th>\n",
       "      <td>Al*4</td>\n",
       "      <td>21</td>\n",
       "      <td>10703.84170</td>\n",
       "      <td>4.394250</td>\n",
       "      <td>240.444167</td>\n",
       "    </tr>\n",
       "    <tr>\n",
       "      <th>6</th>\n",
       "      <td>Al*3</td>\n",
       "      <td>22</td>\n",
       "      <td>11692.21360</td>\n",
       "      <td>3.294000</td>\n",
       "      <td>231.150135</td>\n",
       "    </tr>\n",
       "    <tr>\n",
       "      <th>7</th>\n",
       "      <td>Al*2</td>\n",
       "      <td>23</td>\n",
       "      <td>12001.57830</td>\n",
       "      <td>2.193750</td>\n",
       "      <td>238.069350</td>\n",
       "    </tr>\n",
       "    <tr>\n",
       "      <th>8</th>\n",
       "      <td>Al*1</td>\n",
       "      <td>24</td>\n",
       "      <td>12984.03280</td>\n",
       "      <td>1.093500</td>\n",
       "      <td>250.005237</td>\n",
       "    </tr>\n",
       "    <tr>\n",
       "      <th>9</th>\n",
       "      <td>Al*0</td>\n",
       "      <td>25</td>\n",
       "      <td>13747.29870</td>\n",
       "      <td>0.000000</td>\n",
       "      <td>278.633257</td>\n",
       "    </tr>\n",
       "  </tbody>\n",
       "</table>\n",
       "</div>"
      ],
      "text/plain": [
       "   cond  run        count  thickness   count_err\n",
       "0  Pb*4   16   6118.24462   9.136750  160.934371\n",
       "1  Pb*3   17   7745.17644   6.753250  171.897586\n",
       "2  Pb*2   18   9424.52730   4.483250  191.905881\n",
       "3  Pb*1   19  11878.97940   2.298375  242.986790\n",
       "4  Pb*0   20  14629.68550   0.000000  286.682725\n",
       "5  Al*4   21  10703.84170   4.394250  240.444167\n",
       "6  Al*3   22  11692.21360   3.294000  231.150135\n",
       "7  Al*2   23  12001.57830   2.193750  238.069350\n",
       "8  Al*1   24  12984.03280   1.093500  250.005237\n",
       "9  Al*0   25  13747.29870   0.000000  278.633257"
      ]
     },
     "execution_count": 2,
     "metadata": {},
     "output_type": "execute_result"
    }
   ],
   "source": [
    "Cs137 = pd.read_csv(\"Cs137.csv\")\n",
    "Cs137"
   ]
  },
  {
   "cell_type": "code",
   "execution_count": 3,
   "metadata": {
    "collapsed": true
   },
   "outputs": [],
   "source": [
    "thick = np.array(Cs137[\"thickness\"])\n",
    "count = np.array(Cs137[\"count\"])\n",
    "err = np.array(Cs137[\"count_err\"])"
   ]
  },
  {
   "cell_type": "markdown",
   "metadata": {},
   "source": [
    "## Pb\n"
   ]
  },
  {
   "cell_type": "code",
   "execution_count": 4,
   "metadata": {},
   "outputs": [
    {
     "data": {
      "text/plain": [
       "<matplotlib.collections.PathCollection at 0x112657358>"
      ]
     },
     "execution_count": 4,
     "metadata": {},
     "output_type": "execute_result"
    },
    {
     "data": {
      "image/png": "[encoded data removed]",
      "text/plain": [
       "<Figure size 432x288 with 1 Axes>"
      ]
     },
     "metadata": {},
     "output_type": "display_data"
    }
   ],
   "source": [
    "plt.scatter(thick[0:5],np.log(count[0:5]))"
   ]
  },
  {
   "cell_type": "markdown",
   "metadata": {},
   "source": [
    "## Al"
   ]
  },
  {
   "cell_type": "code",
   "execution_count": 5,
   "metadata": {},
   "outputs": [
    {
     "data": {
      "text/plain": [
       "<matplotlib.collections.PathCollection at 0x1126a30b8>"
      ]
     },
     "execution_count": 5,
     "metadata": {},
     "output_type": "execute_result"
    },
    {
     "data": {
      "image/png": "[encoded data removed]",
      "text/plain": [
       "<Figure size 432x288 with 1 Axes>"
      ]
     },
     "metadata": {},
     "output_type": "display_data"
    }
   ],
   "source": [
    "plt.scatter(thick[5:10],np.log(count[5:10]))"
   ]
  },
  {
   "cell_type": "code",
   "execution_count": 6,
   "metadata": {
    "collapsed": true
   },
   "outputs": [],
   "source": [
    "def func(x, a1, a2):\n",
    "    return a1 +a2*x\n",
    "\n",
    "def fit_func(param, x, y, err):\n",
    "    a1, a2 = param\n",
    "    residual = (y - func(x, a1, a2))/err\n",
    "    return residual\n"
   ]
  },
  {
   "cell_type": "code",
   "execution_count": 13,
   "metadata": {},
   "outputs": [
    {
     "name": "stdout",
     "output_type": "stream",
     "text": [
      "b1     : 9.592583059244792\n",
      "b1_err : 0.01567075979283518\n",
      "b2     : -0.09552676035377212\n",
      "b2_err : 0.0031209430575383623\n",
      "reduced_chi_square : 0.25249749186624976\n"
     ]
    },
    {
     "data": {
      "image/png": "[encoded data removed]",
      "text/plain": [
       "<Figure size 432x288 with 1 Axes>"
      ]
     },
     "metadata": {},
     "output_type": "display_data"
    }
   ],
   "source": [
    "param = [0, 0]\n",
    "result = leastsq(fit_func, param, args=(thick[0:5], np.log(count[0:5]),err[0:5]/count[0:5]), full_output=True)\n",
    "\n",
    "b1, b2 = result[0]\n",
    "b1_err = np.sqrt(result[1][0, 0])\n",
    "b2_err = np.sqrt(result[1][1, 1])\n",
    "\n",
    "print(\"b1     : \"+ str(b1))\n",
    "print(\"b1_err : \" + str(b1_err))\n",
    "print(\"b2     : \"+ str(b2))\n",
    "print(\"b2_err : \"+ str(b2_err))\n",
    "\n",
    "chi = fit_func((b1, b2), thick[0:5], np.log(count[0:5]), err[0:5]/count[0:5])\n",
    "plt.scatter(thick[0:5], chi*chi)\n",
    "\n",
    "chi_square = sum(chi*chi)\n",
    "print(\"reduced_chi_square : \" + str(chi_square /3) )"
   ]
  },
  {
   "cell_type": "code",
   "execution_count": 8,
   "metadata": {},
   "outputs": [
    {
     "name": "stdout",
     "output_type": "stream",
     "text": [
      "c1     : 9.528140036507814\n",
      "c1_err : 0.015556548569121809\n",
      "c2     : -0.054706219663509886\n",
      "c2_err : 0.006022711355138683\n",
      "reduced_chi_square : 0.5661121227327902\n"
     ]
    },
    {
     "data": {
      "image/png": "[encoded data removed]",
      "text/plain": [
       "<Figure size 432x288 with 1 Axes>"
      ]
     },
     "metadata": {},
     "output_type": "display_data"
    }
   ],
   "source": [
    "param = [0, 0]\n",
    "result = leastsq(fit_func, param, args=(thick[5:10], np.log(count[5:10]), err[5:10]/count[5:10]), full_output=True)\n",
    "\n",
    "c1, c2 = result[0]\n",
    "c1_err = np.sqrt(result[1][0, 0])\n",
    "c2_err = np.sqrt(result[1][1, 1])\n",
    "\n",
    "print(\"c1     : \"+ str(c1))\n",
    "print(\"c1_err : \" + str(c1_err))\n",
    "print(\"c2     : \"+ str(c2))\n",
    "print(\"c2_err : \"+ str(c2_err))\n",
    "\n",
    "chi = fit_func((c1, c2), thick[5:10], np.log(count[5:10]), err[5:10]/count[5:10])\n",
    "plt.scatter(thick[5:10], chi*chi)\n",
    "\n",
    "chi_square = sum(chi*chi)\n",
    "print(\"reduced_chi_square : \" + str(chi_square /3) )"
   ]
  },
  {
   "cell_type": "code",
   "execution_count": 20,
   "metadata": {},
   "outputs": [
    {
     "data": {
      "image/png": "[encoded data removed]",
      "text/plain": [
       "<Figure size 720x648 with 2 Axes>"
      ]
     },
     "metadata": {},
     "output_type": "display_data"
    }
   ],
   "source": [
    "fig = plt.figure(figsize=(10, 9))\n",
    "\n",
    "ax1 =fig.add_subplot(2,1,1)\n",
    "ax2 =fig.add_subplot(2,1,2)\n",
    "\n",
    "#plot_Pb\n",
    "ax1.set_title(\"Pb\")\n",
    "ax1.set_xlabel(\"Thickness[g/cm^2]\")\n",
    "ax1.set_ylabel(\"Counts\")\n",
    "ax1.set_yscale(\"log\")\n",
    "\n",
    "ax1.scatter(thick[0:5], count[0:5],c=\"pink\", alpha=0.5, linewidths=\"2\",edgecolors=\"red\",label=\"data\")\n",
    "#ax1.set_xlim(-10,20)\n",
    "ax1.set_ylim(1000,100000)\n",
    "x_1 = np.linspace(-0.25,10)\n",
    "ax1.plot(x_1, np.exp(func(x_1, b1, b2)),label=\"f(x)\")\n",
    "ax1.errorbar(thick[0:5], count[0:5], yerr=err[0:5],fmt=\"none\", ecolor=\"g\")\n",
    "ax1.legend()\n",
    "\n",
    "\n",
    "#plot_Al\n",
    "ax2.set_title(\"Al\")\n",
    "ax2.set_xlabel(\"Thickness[g/cm^2]\")\n",
    "ax2.set_ylabel(\"Counts\")\n",
    "ax2.set_yscale(\"log\")\n",
    "\n",
    "ax2.scatter(thick[5:10], count[5:10],c=\"pink\", alpha=0.5, linewidths=\"2\",edgecolors=\"red\",label=\"data\")\n",
    "#ax2.set_xlim(-0.5,5)\n",
    "ax2.set_ylim(1000,100000)\n",
    "x_2 = np.linspace(-0.25,4.75)\n",
    "ax2.plot(x_2, np.exp(func(x_2, c1, c2)),label=\"f(x)\")\n",
    "ax2.errorbar(thick[5:10], count[5:10], yerr=err[5:10], fmt=\"none\", ecolor=\"g\")\n",
    "ax2.legend()\n",
    "\n",
    "\n",
    "fig.tight_layout()\n",
    "plt.savefig(\"Cs137.png\")\n",
    "#plt.show()"
   ]
  },
  {
   "cell_type": "code",
   "execution_count": null,
   "metadata": {
    "collapsed": true
   },
   "outputs": [],
   "source": []
  },
  {
   "cell_type": "code",
   "execution_count": null,
   "metadata": {
    "collapsed": true
   },
   "outputs": [],
   "source": []
  }
 ],
 "metadata": {
  "kernelspec": {
   "display_name": "Python 3",
   "language": "python",
   "name": "python3"
  },
  "language_info": {
   "codemirror_mode": {
    "name": "ipython",
    "version": 3
   },
   "file_extension": ".py",
   "mimetype": "text/x-python",
   "name": "python",
   "nbconvert_exporter": "python",
   "pygments_lexer": "ipython3",
   "version": "3.6.1"
  }
 },
 "nbformat": 4,
 "nbformat_minor": 2
}
