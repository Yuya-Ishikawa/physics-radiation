{
 "cells": [
  {
   "cell_type": "code",
   "execution_count": 1,
   "metadata": {
    "collapsed": true
   },
   "outputs": [],
   "source": [
    "# -*- coding: utf-8 -*-\n",
    "%matplotlib inline\n",
    "\n",
    "# import\n",
    "import pandas as pd\n",
    "import numpy as np\n",
    "from scipy.optimize import curve_fit\n",
    "from scipy.optimize import leastsq \n",
    "import matplotlib.pyplot as plt"
   ]
  },
  {
   "cell_type": "code",
   "execution_count": 2,
   "metadata": {},
   "outputs": [
    {
     "data": {
      "text/html": [
       "<div>\n",
       "<style scoped>\n",
       "    .dataframe tbody tr th:only-of-type {\n",
       "        vertical-align: middle;\n",
       "    }\n",
       "\n",
       "    .dataframe tbody tr th {\n",
       "        vertical-align: top;\n",
       "    }\n",
       "\n",
       "    .dataframe thead th {\n",
       "        text-align: right;\n",
       "    }\n",
       "</style>\n",
       "<table border=\"1\" class=\"dataframe\">\n",
       "  <thead>\n",
       "    <tr style=\"text-align: right;\">\n",
       "      <th></th>\n",
       "      <th>cond</th>\n",
       "      <th>run</th>\n",
       "      <th>count</th>\n",
       "      <th>thickness</th>\n",
       "      <th>count_err</th>\n",
       "    </tr>\n",
       "  </thead>\n",
       "  <tbody>\n",
       "    <tr>\n",
       "      <th>0</th>\n",
       "      <td>Pb*4</td>\n",
       "      <td>11</td>\n",
       "      <td>5531.96815</td>\n",
       "      <td>9.136750</td>\n",
       "      <td>281.721626</td>\n",
       "    </tr>\n",
       "    <tr>\n",
       "      <th>1</th>\n",
       "      <td>Pb*3</td>\n",
       "      <td>12</td>\n",
       "      <td>7124.43909</td>\n",
       "      <td>6.753250</td>\n",
       "      <td>329.276451</td>\n",
       "    </tr>\n",
       "    <tr>\n",
       "      <th>2</th>\n",
       "      <td>Pb*2</td>\n",
       "      <td>13</td>\n",
       "      <td>7031.34596</td>\n",
       "      <td>4.483250</td>\n",
       "      <td>315.037620</td>\n",
       "    </tr>\n",
       "    <tr>\n",
       "      <th>3</th>\n",
       "      <td>Pb*1</td>\n",
       "      <td>14</td>\n",
       "      <td>8587.20857</td>\n",
       "      <td>2.298375</td>\n",
       "      <td>375.816887</td>\n",
       "    </tr>\n",
       "    <tr>\n",
       "      <th>4</th>\n",
       "      <td>Pb*0</td>\n",
       "      <td>15</td>\n",
       "      <td>9565.14514</td>\n",
       "      <td>0.000000</td>\n",
       "      <td>354.314353</td>\n",
       "    </tr>\n",
       "    <tr>\n",
       "      <th>5</th>\n",
       "      <td>Al*4</td>\n",
       "      <td>26</td>\n",
       "      <td>7954.62157</td>\n",
       "      <td>4.394250</td>\n",
       "      <td>376.224259</td>\n",
       "    </tr>\n",
       "    <tr>\n",
       "      <th>6</th>\n",
       "      <td>Al*3</td>\n",
       "      <td>27</td>\n",
       "      <td>8140.07086</td>\n",
       "      <td>3.294000</td>\n",
       "      <td>378.124047</td>\n",
       "    </tr>\n",
       "    <tr>\n",
       "      <th>7</th>\n",
       "      <td>Al*2</td>\n",
       "      <td>28</td>\n",
       "      <td>9100.36780</td>\n",
       "      <td>2.193750</td>\n",
       "      <td>387.952742</td>\n",
       "    </tr>\n",
       "    <tr>\n",
       "      <th>8</th>\n",
       "      <td>Al*1</td>\n",
       "      <td>29</td>\n",
       "      <td>9543.55592</td>\n",
       "      <td>1.093500</td>\n",
       "      <td>406.000141</td>\n",
       "    </tr>\n",
       "    <tr>\n",
       "      <th>9</th>\n",
       "      <td>Al*0</td>\n",
       "      <td>30</td>\n",
       "      <td>9564.91045</td>\n",
       "      <td>0.000000</td>\n",
       "      <td>367.840938</td>\n",
       "    </tr>\n",
       "  </tbody>\n",
       "</table>\n",
       "</div>"
      ],
      "text/plain": [
       "   cond  run       count  thickness   count_err\n",
       "0  Pb*4   11  5531.96815   9.136750  281.721626\n",
       "1  Pb*3   12  7124.43909   6.753250  329.276451\n",
       "2  Pb*2   13  7031.34596   4.483250  315.037620\n",
       "3  Pb*1   14  8587.20857   2.298375  375.816887\n",
       "4  Pb*0   15  9565.14514   0.000000  354.314353\n",
       "5  Al*4   26  7954.62157   4.394250  376.224259\n",
       "6  Al*3   27  8140.07086   3.294000  378.124047\n",
       "7  Al*2   28  9100.36780   2.193750  387.952742\n",
       "8  Al*1   29  9543.55592   1.093500  406.000141\n",
       "9  Al*0   30  9564.91045   0.000000  367.840938"
      ]
     },
     "execution_count": 2,
     "metadata": {},
     "output_type": "execute_result"
    }
   ],
   "source": [
    "Cs137 = pd.read_csv(\"Co60_right.csv\")\n",
    "Cs137"
   ]
  },
  {
   "cell_type": "code",
   "execution_count": 3,
   "metadata": {
    "collapsed": true
   },
   "outputs": [],
   "source": [
    "thick = np.array(Cs137[\"thickness\"])\n",
    "count = np.array(Cs137[\"count\"])\n",
    "err = np.array(Cs137[\"count_err\"])"
   ]
  },
  {
   "cell_type": "markdown",
   "metadata": {},
   "source": [
    "## Pb\n"
   ]
  },
  {
   "cell_type": "code",
   "execution_count": 4,
   "metadata": {},
   "outputs": [
    {
     "data": {
      "text/plain": [
       "<matplotlib.collections.PathCollection at 0x112557320>"
      ]
     },
     "execution_count": 4,
     "metadata": {},
     "output_type": "execute_result"
    },
    {
     "data": {
      "image/png": "[encoded data removed]",
      "text/plain": [
       "<Figure size 432x288 with 1 Axes>"
      ]
     },
     "metadata": {},
     "output_type": "display_data"
    }
   ],
   "source": [
    "plt.scatter(thick[0:5],np.log(count[0:5]))"
   ]
  },
  {
   "cell_type": "markdown",
   "metadata": {},
   "source": [
    "## Al"
   ]
  },
  {
   "cell_type": "code",
   "execution_count": 5,
   "metadata": {},
   "outputs": [
    {
     "data": {
      "text/plain": [
       "<matplotlib.collections.PathCollection at 0x1125a0be0>"
      ]
     },
     "execution_count": 5,
     "metadata": {},
     "output_type": "execute_result"
    },
    {
     "data": {
      "image/png": "[encoded data removed]",
      "text/plain": [
       "<Figure size 432x288 with 1 Axes>"
      ]
     },
     "metadata": {},
     "output_type": "display_data"
    }
   ],
   "source": [
    "plt.scatter(thick[5:10],np.log(count[5:10]))"
   ]
  },
  {
   "cell_type": "code",
   "execution_count": 6,
   "metadata": {
    "collapsed": true
   },
   "outputs": [],
   "source": [
    "def func(x, a1, a2):\n",
    "    return a1 +a2*x\n",
    "\n",
    "def fit_func(param, x, y, err):\n",
    "    a1, a2 = param\n",
    "    residual = (y - func(x, a1, a2))/err\n",
    "    return residual\n"
   ]
  },
  {
   "cell_type": "code",
   "execution_count": 7,
   "metadata": {},
   "outputs": [
    {
     "name": "stdout",
     "output_type": "stream",
     "text": [
      "b1     : 9.168164196966925\n",
      "b1_err : 0.030729881868793395\n",
      "b2     : -0.05580345449194453\n",
      "b2_err : 0.00608822417741657\n",
      "reduced_chi_square : 1.8570071514054964\n"
     ]
    },
    {
     "data": {
      "image/png": "[encoded data removed]",
      "text/plain": [
       "<Figure size 432x288 with 1 Axes>"
      ]
     },
     "metadata": {},
     "output_type": "display_data"
    }
   ],
   "source": [
    "param = [0, 0]\n",
    "result = leastsq(fit_func, param, args=(thick[0:5], np.log(count[0:5]),err[0:5]/count[0:5]), full_output=True)\n",
    "\n",
    "b1, b2 = result[0]\n",
    "b1_err = np.sqrt(result[1][0, 0])\n",
    "b2_err = np.sqrt(result[1][1, 1])\n",
    "\n",
    "print(\"b1     : \"+ str(b1))\n",
    "print(\"b1_err : \" + str(b1_err))\n",
    "print(\"b2     : \"+ str(b2))\n",
    "print(\"b2_err : \"+ str(b2_err))\n",
    "\n",
    "chi = fit_func((b1, b2), thick[0:5], np.log(count[0:5]), err[0:5]/count[0:5])\n",
    "plt.scatter(thick[0:5], chi*chi)\n",
    "\n",
    "chi_square = sum(chi*chi)\n",
    "print(\"reduced_chi_square : \" + str(chi_square /3) )"
   ]
  },
  {
   "cell_type": "code",
   "execution_count": 8,
   "metadata": {},
   "outputs": [
    {
     "name": "stdout",
     "output_type": "stream",
     "text": [
      "c1     : 9.18861238768643\n",
      "c1_err : 0.031118723573619382\n",
      "c2     : -0.04658262600106253\n",
      "c2_err : 0.012388491881887707\n",
      "reduced_chi_square : 0.5475925525699289\n"
     ]
    },
    {
     "data": {
      "image/png": "[encoded data removed]",
      "text/plain": [
       "<Figure size 432x288 with 1 Axes>"
      ]
     },
     "metadata": {},
     "output_type": "display_data"
    }
   ],
   "source": [
    "param = [0, 0]\n",
    "result = leastsq(fit_func, param, args=(thick[5:10], np.log(count[5:10]), err[5:10]/count[5:10]), full_output=True)\n",
    "\n",
    "c1, c2 = result[0]\n",
    "c1_err = np.sqrt(result[1][0, 0])\n",
    "c2_err = np.sqrt(result[1][1, 1])\n",
    "\n",
    "print(\"c1     : \"+ str(c1))\n",
    "print(\"c1_err : \" + str(c1_err))\n",
    "print(\"c2     : \"+ str(c2))\n",
    "print(\"c2_err : \"+ str(c2_err))\n",
    "\n",
    "chi = fit_func((c1, c2), thick[5:10], np.log(count[5:10]), err[5:10]/count[5:10])\n",
    "plt.scatter(thick[5:10], chi*chi)\n",
    "\n",
    "chi_square = sum(chi*chi)\n",
    "print(\"reduced_chi_square : \" + str(chi_square /3) )"
   ]
  },
  {
   "cell_type": "code",
   "execution_count": 13,
   "metadata": {},
   "outputs": [
    {
     "data": {
      "image/png": "[encoded data removed]",
      "text/plain": [
       "<Figure size 720x648 with 2 Axes>"
      ]
     },
     "metadata": {},
     "output_type": "display_data"
    }
   ],
   "source": [
    "fig = plt.figure(figsize=(10, 9))\n",
    "\n",
    "ax1 =fig.add_subplot(2,1,1)\n",
    "ax2 =fig.add_subplot(2,1,2)\n",
    "\n",
    "#plot_Pb\n",
    "ax1.set_title(\"Pb\")\n",
    "ax1.set_xlabel(\"Thickness[g/cm^2]\")\n",
    "ax1.set_ylabel(\"Counts\")\n",
    "ax1.set_yscale(\"log\")\n",
    "\n",
    "ax1.scatter(thick[0:5], count[0:5],c=\"pink\", alpha=0.5, linewidths=\"2\",edgecolors=\"red\",label=\"data\")\n",
    "#ax1.set_xlim(-10,110)\n",
    "ax1.set_ylim(1000,100000)\n",
    "x_1 = np.linspace(-0.25,10)\n",
    "ax1.plot(x_1, np.exp(func(x_1, b1, b2)),label=\"f(x)\")\n",
    "ax1.errorbar(thick[0:5], count[0:5], yerr=err[0:5],fmt=\"none\", ecolor=\"g\")\n",
    "ax1.legend()\n",
    "\n",
    "#plot_Al\n",
    "ax2.set_title(\"Al\")\n",
    "ax2.set_xlabel(\"Thickness[g/cm^2]\")\n",
    "ax2.set_ylabel(\"Counts\")\n",
    "ax2.set_yscale(\"log\")\n",
    "\n",
    "ax2.scatter(thick[5:10], count[5:10],c=\"pink\", alpha=0.5, linewidths=\"2\",edgecolors=\"red\",label=\"data\")\n",
    "#ax2.set_xlim(-0.5,5)\n",
    "ax2.set_ylim(1000,100000)\n",
    "x_2 = np.linspace(-0.25,4.75)\n",
    "ax2.plot(x_2, np.exp(func(x_2, c1, c2)),label=\"f(x)\")\n",
    "ax2.errorbar(thick[5:10], count[5:10], yerr=err[5:10], fmt=\"none\", ecolor=\"g\")\n",
    "ax2.legend()\n",
    "\n",
    "\n",
    "fig.tight_layout()\n",
    "plt.savefig(\"Co60_right.png\")\n",
    "#plt.show()"
   ]
  },
  {
   "cell_type": "code",
   "execution_count": null,
   "metadata": {
    "collapsed": true
   },
   "outputs": [],
   "source": []
  }
 ],
 "metadata": {
  "kernelspec": {
   "display_name": "Python 3",
   "language": "python",
   "name": "python3"
  },
  "language_info": {
   "codemirror_mode": {
    "name": "ipython",
    "version": 3
   },
   "file_extension": ".py",
   "mimetype": "text/x-python",
   "name": "python",
   "nbconvert_exporter": "python",
   "pygments_lexer": "ipython3",
   "version": "3.6.1"
  }
 },
 "nbformat": 4,
 "nbformat_minor": 2
}
