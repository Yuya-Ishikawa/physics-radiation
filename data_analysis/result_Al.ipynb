{
 "cells": [
  {
   "cell_type": "code",
   "execution_count": 2,
   "metadata": {
    "collapsed": true
   },
   "outputs": [],
   "source": [
    "import numpy as np\n",
    "from pandas import Series, DataFrame\n",
    "import pandas as pd\n",
    "import matplotlib.pyplot as plt"
   ]
  },
  {
   "cell_type": "markdown",
   "metadata": {},
   "source": [
    "dframe = pd.read_clipboard()\n",
    "dframe"
   ]
  },
  {
   "cell_type": "code",
   "execution_count": 61,
   "metadata": {
    "collapsed": true
   },
   "outputs": [],
   "source": [
    "new_columns = {\"2.00000E-03\":\"Energy\",\"2.263E+03\":\"mu\",\"2.204E+03\":\"mu_en\"}\n",
    "df0 = dframe.rename(columns=new_columns)"
   ]
  },
  {
   "cell_type": "code",
   "execution_count": 62,
   "metadata": {
    "collapsed": true
   },
   "outputs": [],
   "source": [
    "df0.to_csv('sample.csv')"
   ]
  },
  {
   "cell_type": "code",
   "execution_count": 6,
   "metadata": {
    "collapsed": true
   },
   "outputs": [],
   "source": [
    "df0 = pd.read_csv('sample.csv')"
   ]
  },
  {
   "cell_type": "code",
   "execution_count": 7,
   "metadata": {
    "collapsed": true
   },
   "outputs": [],
   "source": [
    "data_energy = [0.662,1.173,1.332]\n",
    "data_mu = [0.055,0.047,0.047]\n",
    "data_err = [0.006,0.009,0.012]"
   ]
  },
  {
   "cell_type": "code",
   "execution_count": 13,
   "metadata": {},
   "outputs": [
    {
     "data": {
      "image/png": "[encoded data removed]",
      "text/plain": [
       "<Figure size 720x648 with 1 Axes>"
      ]
     },
     "metadata": {},
     "output_type": "display_data"
    }
   ],
   "source": [
    "fig = plt.figure(figsize=(10, 9))\n",
    "\n",
    "ax1 =fig.add_subplot(2,1,1)\n",
    "\n",
    "#plot_Pb\n",
    "ax1.set_title(\"Al\")\n",
    "ax1.set_xlabel(\"Energy[MeV]\")\n",
    "ax1.set_ylabel(\"mu[g/cm^2]\")\n",
    "ax1.set_xscale(\"log\")\n",
    "ax1.set_yscale(\"log\")\n",
    "\n",
    "ax1.plot(df0[\"Energy\"],df0[\"mu\"])\n",
    "ax1.set_xlim(0.1,10)\n",
    "ax1.set_ylim(0.01,1)\n",
    "#x_1 = np.linspace(0,10)\n",
    "#ax1.plot(x_1, np.exp(func(x_1, b1, b2)))\n",
    "ax1.errorbar(data_energy, data_mu, yerr=data_err,fmt=\"ro\", ecolor=\"g\")\n",
    "\n",
    "#fig.tight_layout()\n",
    "plt.savefig(\"result_Al.png\")\n",
    "plt.show()"
   ]
  },
  {
   "cell_type": "code",
   "execution_count": null,
   "metadata": {
    "collapsed": true
   },
   "outputs": [],
   "source": []
  }
 ],
 "metadata": {
  "kernelspec": {
   "display_name": "Python 3",
   "language": "python",
   "name": "python3"
  },
  "language_info": {
   "codemirror_mode": {
    "name": "ipython",
    "version": 3
   },
   "file_extension": ".py",
   "mimetype": "text/x-python",
   "name": "python",
   "nbconvert_exporter": "python",
   "pygments_lexer": "ipython3",
   "version": "3.6.1"
  }
 },
 "nbformat": 4,
 "nbformat_minor": 2
}
